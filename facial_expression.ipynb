{
 "cells": [
  {
   "cell_type": "markdown",
   "id": "f87a2dc9",
   "metadata": {},
   "source": [
    "# Recognizing Emotions from Facial Expression Data\n",
    "\n",
    "The data comes from a Kaggle competition:\n",
    "\n",
    "https://www.kaggle.com/c/challenges-in-representation-learning-facial-expression-recognition-challenge"
   ]
  },
  {
   "cell_type": "code",
   "execution_count": null,
   "id": "9e69ed5f",
   "metadata": {},
   "outputs": [],
   "source": [
    "import numpy as np\n",
    "import pandas as pd\n",
    "import matplotlib.pyplot as plt\n",
    "import datetime\n",
    "from logistic_regression import batch_gradient_ascent"
   ]
  },
  {
   "cell_type": "code",
   "execution_count": null,
   "id": "240da3bd",
   "metadata": {},
   "outputs": [],
   "source": [
    "%load_ext line_profiler"
   ]
  },
  {
   "cell_type": "code",
   "execution_count": null,
   "id": "4354843d",
   "metadata": {},
   "outputs": [],
   "source": [
    "# Assuming the data has been downloaded to a CSV file\n",
    "df = pd.read_csv('~/Downloads/fer2013.csv')\n",
    "df"
   ]
  },
  {
   "cell_type": "code",
   "execution_count": null,
   "id": "e0ea87f6",
   "metadata": {},
   "outputs": [],
   "source": [
    "emotion_labels=['Anger', 'Disgust', 'Fear', 'Happy', 'Sad', 'Surprise', 'Neutral']"
   ]
  },
  {
   "cell_type": "code",
   "execution_count": null,
   "id": "e73f4b13",
   "metadata": {},
   "outputs": [],
   "source": [
    "# Put data into Numpy arrays\n",
    "X = -1 * np.ones((len(df), 48, 48))\n",
    "for i in range(len(df)):\n",
    "    X[i,:,:] = np.array([int(s) for s in df['pixels'].loc[i].split()]).reshape(48,48)"
   ]
  },
  {
   "cell_type": "code",
   "execution_count": null,
   "id": "93c97698",
   "metadata": {},
   "outputs": [],
   "source": [
    "y = df['emotion'].values"
   ]
  },
  {
   "cell_type": "code",
   "execution_count": null,
   "id": "80ac38d9",
   "metadata": {},
   "outputs": [],
   "source": [
    "# display a random picture from the data set with label\n",
    "row_index = np.random.choice(len(df))\n",
    "plt.imshow(X[row_index, :, :], cmap='gray')\n",
    "plt.title(emotion_labels[y[row_index]])"
   ]
  },
  {
   "cell_type": "code",
   "execution_count": null,
   "id": "41e41a18",
   "metadata": {},
   "outputs": [],
   "source": [
    "# Reduce data set to classify happy vs. sad\n",
    "is_happy_or_sad = (y==3) | (y==4)\n",
    "X_happy_or_sad = X[is_happy_or_sad] / 255\n",
    "y_happy_or_sad = y[is_happy_or_sad]\n",
    "y_happy_or_sad[y_happy_or_sad==3] = 0\n",
    "y_happy_or_sad[y_happy_or_sad==4] = 1\n",
    "\n",
    "# # Reduce data set to angry vs. disgust\n",
    "# X_angry = X[y==0] / 255\n",
    "# X_disgust = np.repeat(X[y==1] / 255, 9, axis=0) # handle unblanaced data\n",
    "# X_angry_or_disgust = np.vstack((X_angry, X_disgust))\n",
    "# y_angry_or_disgust = np.array([0]*X_angry.shape[0] + [1]*X_disgust.shape[0])"
   ]
  },
  {
   "cell_type": "code",
   "execution_count": null,
   "id": "9cb4e58b",
   "metadata": {},
   "outputs": [],
   "source": [
    "shuffled_indices = np.random.permutation(X_happy_or_sad.shape[0])\n",
    "X_happy_or_sad = X_happy_or_sad[shuffled_indices,:,:]\n",
    "y_happy_or_sad = y_happy_or_sad[shuffled_indices]\n",
    "\n",
    "# shuffled_indices = np.random.permutation(X_angry_or_disgust.shape[0])\n",
    "# X_angry_or_disgust = X_angry_or_disgust[shuffled_indices,:,:]\n",
    "# y_angry_or_disgust = y_angry_or_disgust[shuffled_indices]"
   ]
  },
  {
   "cell_type": "code",
   "execution_count": null,
   "id": "2c97995b",
   "metadata": {},
   "outputs": [],
   "source": [
    "# Train/test split\n",
    "N = 2 * len(y_happy_or_sad) // 3  # number in train set\n",
    "N_test = len(y_happy_or_sad) - N  # number in test set\n",
    "X_train = X_happy_or_sad[:N,:,:].reshape((N, 48 * 48))\n",
    "y_train = y_happy_or_sad[:N]\n",
    "X_test = X_happy_or_sad[N:,:,:].reshape((N_test, 48 * 48))\n",
    "y_test = y_happy_or_sad[N:]\n",
    "\n",
    "# N = 2 * len(y_angry_or_disgust) // 3  # number in train set\n",
    "# N_test = len(y_angry_or_disgust) - N  # number in test set\n",
    "# X_train = X_angry_or_disgust[:N,:,:].reshape((N, 48 * 48))\n",
    "# y_train = y_angry_or_disgust[:N]\n",
    "# X_test = X_angry_or_disgust[N:,:,:].reshape((N_test, 48 * 48))\n",
    "# y_test = y_angry_or_disgust[N:]"
   ]
  },
  {
   "cell_type": "code",
   "execution_count": null,
   "id": "940ff8d8",
   "metadata": {},
   "outputs": [],
   "source": [
    "X_train.shape, y_train.shape, X_test.shape, y_test.shape"
   ]
  },
  {
   "cell_type": "markdown",
   "id": "62a55a7c",
   "metadata": {},
   "source": [
    "## Profiling\n",
    "\n",
    "Train the model with just 100 epochs for profiling purposes"
   ]
  },
  {
   "cell_type": "code",
   "execution_count": null,
   "id": "8f112d93",
   "metadata": {},
   "outputs": [],
   "source": [
    "%lprun?"
   ]
  },
  {
   "cell_type": "code",
   "execution_count": null,
   "id": "94ff1d75",
   "metadata": {},
   "outputs": [],
   "source": [
    "%lprun -m logistic_regression batch_gradient_ascent(X_train, y_train, lr=1e-6, verbose=True, max_iters=100, step_size=20)"
   ]
  },
  {
   "cell_type": "markdown",
   "id": "39a0f49f",
   "metadata": {},
   "source": [
    "## Train the model"
   ]
  },
  {
   "cell_type": "code",
   "execution_count": null,
   "id": "61c7b766",
   "metadata": {},
   "outputs": [],
   "source": [
    "t0 = datetime.datetime.now()\n",
    "weights, train_costs, test_costs = batch_gradient_ascent(X_train, y_train, lr=1e-6, \n",
    "                                                         test_inputs=X_test, test_targets=y_test, \n",
    "                                                         verbose=True, max_iters=1000, step_size=20,\n",
    "                                                         l1=True, l1_param=10)\n",
    "print(f\"{(datetime.datetime.now() - t0).total_seconds() / 60}\")"
   ]
  },
  {
   "cell_type": "code",
   "execution_count": null,
   "id": "985f74f6",
   "metadata": {},
   "outputs": [],
   "source": [
    "plt.plot(train_costs, label='Train Cost')\n",
    "plt.plot(test_costs, label='Test Cost')\n",
    "plt.legend()"
   ]
  },
  {
   "cell_type": "code",
   "execution_count": null,
   "id": "00fcb985",
   "metadata": {},
   "outputs": [],
   "source": []
  }
 ],
 "metadata": {
  "kernelspec": {
   "display_name": "Python 3 (ipykernel)",
   "language": "python",
   "name": "python3"
  },
  "language_info": {
   "codemirror_mode": {
    "name": "ipython",
    "version": 3
   },
   "file_extension": ".py",
   "mimetype": "text/x-python",
   "name": "python",
   "nbconvert_exporter": "python",
   "pygments_lexer": "ipython3",
   "version": "3.8.10"
  }
 },
 "nbformat": 4,
 "nbformat_minor": 5
}
