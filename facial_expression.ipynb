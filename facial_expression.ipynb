{
 "cells": [
  {
   "cell_type": "markdown",
   "id": "85e2165a",
   "metadata": {},
   "source": [
    "# Recognizing Emotions from Facial Expression Data\n",
    "\n",
    "The data comes from a Kaggle competition:\n",
    "\n",
    "https://www.kaggle.com/c/challenges-in-representation-learning-facial-expression-recognition-challenge"
   ]
  },
  {
   "cell_type": "code",
   "execution_count": null,
   "id": "9532d66e",
   "metadata": {},
   "outputs": [],
   "source": [
    "import numpy as np\n",
    "import pandas as pd\n",
    "import matplotlib.pyplot as plt"
   ]
  },
  {
   "cell_type": "code",
   "execution_count": null,
   "id": "43ef2d17",
   "metadata": {},
   "outputs": [],
   "source": [
    "# Assuming the data has been downloaded to a CSV file\n",
    "df = pd.read_csv('fer2013.csv')\n",
    "df"
   ]
  },
  {
   "cell_type": "code",
   "execution_count": null,
   "id": "afacbdf7",
   "metadata": {},
   "outputs": [],
   "source": [
    "emotion_labels=['Anger', 'Disgust', 'Fear', 'Happy', 'Sad', 'Surprise', 'Neutral']"
   ]
  },
  {
   "cell_type": "code",
   "execution_count": null,
   "id": "e769c2e7",
   "metadata": {},
   "outputs": [],
   "source": [
    "# Put data into Numpy arrays\n",
    "X = -1 * np.ones((len(df), 48, 48))\n",
    "for i in range(len(df)):\n",
    "    X[i,:,:] = np.array([int(s) for s in df['pixels'].loc[i].split()]).reshape(48,48)"
   ]
  },
  {
   "cell_type": "code",
   "execution_count": null,
   "id": "d6bc5a24",
   "metadata": {},
   "outputs": [],
   "source": [
    "y = df['emotion'].values"
   ]
  },
  {
   "cell_type": "code",
   "execution_count": null,
   "id": "493f883e",
   "metadata": {},
   "outputs": [],
   "source": [
    "# display a random picture from the data set with label\n",
    "row_index = np.random.choice(len(df))\n",
    "plt.imshow(X[row_index, :, :], cmap='gray')\n",
    "plt.title(emotion_labels[y[row_index]])"
   ]
  },
  {
   "cell_type": "code",
   "execution_count": null,
   "id": "70189455",
   "metadata": {},
   "outputs": [],
   "source": [
    "# Reduce data set to classify happy vs. sad\n",
    "is_happy_or_sad = (y==3) | (y==4)\n",
    "X_happy_or_sad = X[is_happy_or_sad] / 255\n",
    "y_happy_or_sad = y[is_happy_or_sad]\n",
    "y_happy_or_sad[y_happy_or_sad==3] = 0\n",
    "y_happy_or_sad[y_happy_or_sad==4] = 1"
   ]
  },
  {
   "cell_type": "code",
   "execution_count": null,
   "id": "e4444b93",
   "metadata": {},
   "outputs": [],
   "source": [
    "# Train/test split\n",
    "N = 2 * len(y_happy_or_sad) // 3  # number in train set\n",
    "N_test = len(y_happy_or_sad) - N  # number in test set\n",
    "X_train = X_happy_or_sad[:N,:,:].reshape((N, 48 * 48))\n",
    "y_train = y_happy_or_sad[:N]\n",
    "X_test = X_happy_or_sad[N:,:,:].reshape((N_test, 48 * 48))\n",
    "y_test = y_happy_or_sad[N:]"
   ]
  },
  {
   "cell_type": "code",
   "execution_count": null,
   "id": "cb7c4291",
   "metadata": {},
   "outputs": [],
   "source": [
    "X_train.shape, y_train.shape, X_test.shape, y_test.shape"
   ]
  },
  {
   "cell_type": "code",
   "execution_count": null,
   "id": "c75069a7",
   "metadata": {},
   "outputs": [],
   "source": []
  }
 ],
 "metadata": {
  "kernelspec": {
   "display_name": "Python 3 (ipykernel)",
   "language": "python",
   "name": "python3"
  },
  "language_info": {
   "codemirror_mode": {
    "name": "ipython",
    "version": 3
   },
   "file_extension": ".py",
   "mimetype": "text/x-python",
   "name": "python",
   "nbconvert_exporter": "python",
   "pygments_lexer": "ipython3",
   "version": "3.8.10"
  }
 },
 "nbformat": 4,
 "nbformat_minor": 5
}
