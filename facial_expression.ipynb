{
 "cells": [
  {
   "cell_type": "markdown",
   "id": "87193004",
   "metadata": {},
   "source": [
    "# Recognizing Emotions from Facial Expression Data\n",
    "\n",
    "The data comes from a Kaggle competition:\n",
    "\n",
    "https://www.kaggle.com/c/challenges-in-representation-learning-facial-expression-recognition-challenge"
   ]
  },
  {
   "cell_type": "code",
   "execution_count": null,
   "id": "6271b938",
   "metadata": {},
   "outputs": [],
   "source": [
    "import numpy as np\n",
    "import pandas as pd\n",
    "import matplotlib.pyplot as plt"
   ]
  },
  {
   "cell_type": "code",
   "execution_count": null,
   "id": "75432341",
   "metadata": {},
   "outputs": [],
   "source": [
    "# Assuming the data has been downloaded to a CSV file\n",
    "df = pd.read_csv('fer2013.csv')\n",
    "df"
   ]
  },
  {
   "cell_type": "code",
   "execution_count": null,
   "id": "77edf986",
   "metadata": {},
   "outputs": [],
   "source": [
    "emotion_labels=['Anger', 'Disgust', 'Fear', 'Happy', 'Sad', 'Surprise', 'Neutral']"
   ]
  },
  {
   "cell_type": "code",
   "execution_count": null,
   "id": "7cc89985",
   "metadata": {},
   "outputs": [],
   "source": [
    "# Put data into Numpy arrays\n",
    "X = -1 * np.ones((len(df), 48, 48))\n",
    "for i in range(len(df)):\n",
    "    X[i,:,:] = np.array([int(s) for s in df['pixels'].loc[i].split()]).reshape(48,48)"
   ]
  },
  {
   "cell_type": "code",
   "execution_count": null,
   "id": "a90c7d9f",
   "metadata": {},
   "outputs": [],
   "source": [
    "y = df['emotion'].values"
   ]
  },
  {
   "cell_type": "code",
   "execution_count": null,
   "id": "6a4466ae",
   "metadata": {},
   "outputs": [],
   "source": [
    "# display a random picture from the data set with label\n",
    "row_index = np.random.choice(len(df))\n",
    "plt.imshow(X[row_index, :, :], cmap='gray')\n",
    "plt.title(emotion_labels[y[row_index]])"
   ]
  },
  {
   "cell_type": "code",
   "execution_count": null,
   "id": "d362e4a5",
   "metadata": {},
   "outputs": [],
   "source": []
  }
 ],
 "metadata": {
  "kernelspec": {
   "display_name": "Python 3 (ipykernel)",
   "language": "python",
   "name": "python3"
  },
  "language_info": {
   "codemirror_mode": {
    "name": "ipython",
    "version": 3
   },
   "file_extension": ".py",
   "mimetype": "text/x-python",
   "name": "python",
   "nbconvert_exporter": "python",
   "pygments_lexer": "ipython3",
   "version": "3.8.10"
  }
 },
 "nbformat": 4,
 "nbformat_minor": 5
}
